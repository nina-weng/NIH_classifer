{
 "cells": [
  {
   "cell_type": "code",
   "execution_count": 1,
   "id": "81c8b3d4",
   "metadata": {},
   "outputs": [
    {
     "name": "stderr",
     "output_type": "stream",
     "text": [
      "C:\\Users\\12632\\.conda\\envs\\eegeyenet_benchmark\\lib\\site-packages\\numpy\\_distributor_init.py:30: UserWarning: loaded more than 1 DLL from .libs:\n",
      "C:\\Users\\12632\\.conda\\envs\\eegeyenet_benchmark\\lib\\site-packages\\numpy\\.libs\\libopenblas.PYQHXLVVQ7VESDPUVUADXEVJOBGHJPAY.gfortran-win_amd64.dll\n",
      "C:\\Users\\12632\\.conda\\envs\\eegeyenet_benchmark\\lib\\site-packages\\numpy\\.libs\\libopenblas.XWYDX2IKJW2NMTWSFYNGFUWKQU3LYTCZ.gfortran-win_amd64.dll\n",
      "  warnings.warn(\"loaded more than 1 DLL from .libs:\"\n"
     ]
    }
   ],
   "source": [
    "from skimage.io import imread\n",
    "from skimage.io import imsave\n",
    "from skimage.transform import resize\n",
    "import pandas as pd\n",
    "import os\n",
    "from tqdm import tqdm\n",
    "import numpy as np"
   ]
  },
  {
   "cell_type": "code",
   "execution_count": 2,
   "id": "6fa8176f",
   "metadata": {},
   "outputs": [],
   "source": [
    "img_data_dir = 'D:\\\\ninavv\\\\phd\\\\data\\\\NIH\\\\'\n",
    "csv_file = '../datafiles/'+'Data_Entry_2017_v2020_clean_split.csv'\n",
    "\n",
    "df = pd.read_csv(csv_file,header=0)\n",
    "\n",
    "preproc_dir = 'preproc_224x224/'\n",
    "out_dir = img_data_dir\n",
    "\n",
    "if not os.path.exists(out_dir + preproc_dir):\n",
    "    os.makedirs(out_dir + preproc_dir)\n",
    "\n",
    "img_filename = '00024221_000.png'\n",
    "image = imread(img_data_dir +'/images/'+ img_filename)\n",
    "image = resize(image, output_shape=(224, 224), preserve_range=True)\n",
    "out_path = out_dir + preproc_dir + img_filename\n",
    "imsave(out_path, image.astype(np.uint8))"
   ]
  },
  {
   "cell_type": "code",
   "execution_count": null,
   "id": "dc2f5d63",
   "metadata": {},
   "outputs": [],
   "source": []
  }
 ],
 "metadata": {
  "kernelspec": {
   "display_name": "Python 3 (ipykernel)",
   "language": "python",
   "name": "python3"
  },
  "language_info": {
   "codemirror_mode": {
    "name": "ipython",
    "version": 3
   },
   "file_extension": ".py",
   "mimetype": "text/x-python",
   "name": "python",
   "nbconvert_exporter": "python",
   "pygments_lexer": "ipython3",
   "version": "3.8.5"
  }
 },
 "nbformat": 4,
 "nbformat_minor": 5
}
